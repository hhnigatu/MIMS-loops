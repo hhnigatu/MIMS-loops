{
 "cells": [
  {
   "cell_type": "markdown",
   "metadata": {
    "id": "h3SReQW36mTr"
   },
   "source": [
    "# 1.  Variables\n"
   ]
  },
  {
   "cell_type": "code",
   "execution_count": null,
   "metadata": {
    "colab": {
     "base_uri": "https://localhost:8080/"
    },
    "id": "jj-Xqr1f6k6q",
    "outputId": "52588a9f-b7af-4d4f-dab0-ef4d27932e58"
   },
   "outputs": [],
   "source": [
    "x=\"hello world\"\n",
    "print(x)"
   ]
  },
  {
   "cell_type": "code",
   "execution_count": null,
   "metadata": {
    "colab": {
     "base_uri": "https://localhost:8080/"
    },
    "id": "FPrb5lD16s7s",
    "outputId": "0835257a-1690-4a63-de61-4e9bfafbc7b1"
   },
   "outputs": [],
   "source": [
    "y=5\n",
    "print(y)"
   ]
  },
  {
   "cell_type": "code",
   "execution_count": null,
   "metadata": {
    "colab": {
     "base_uri": "https://localhost:8080/"
    },
    "id": "a54uOU746w_6",
    "outputId": "b6c9ddeb-0f49-48b8-db46-40b6662a90b7"
   },
   "outputs": [],
   "source": [
    "x=7.9\n",
    "print(x)"
   ]
  },
  {
   "cell_type": "code",
   "execution_count": null,
   "metadata": {
    "colab": {
     "base_uri": "https://localhost:8080/"
    },
    "id": "i9vCMNWK615T",
    "outputId": "832e6aa0-7c29-42f1-f593-2a57784fd210"
   },
   "outputs": [],
   "source": [
    "list_of_numbers=[1,2,3,4,5]\n",
    "print(\"The first three elements in the list are: \",list_of_numbers[:3])\n",
    "print(\"The first element in the list is: \", list_of_numbers[0])"
   ]
  },
  {
   "cell_type": "code",
   "execution_count": null,
   "metadata": {
    "colab": {
     "base_uri": "https://localhost:8080/"
    },
    "id": "N2zZyAw57BBS",
    "outputId": "76fd02b9-a321-4df6-9f5e-faca39ff7799"
   },
   "outputs": [],
   "source": [
    "name={'first_name': 'Hellina', 'last_name':'Nigatu'}\n",
    "\n",
    "print(\"The keys of the dictionary are: \", name.keys())\n",
    "\n",
    "print(\"The values of the dictionary are: \", name.values())\n",
    "\n",
    "print(\"The items of the dictionary are: \", name.items())"
   ]
  },
  {
   "cell_type": "markdown",
   "metadata": {
    "id": "B1SUFsLs72Jo"
   },
   "source": [
    "# 2. For loops"
   ]
  },
  {
   "cell_type": "code",
   "execution_count": null,
   "metadata": {
    "id": "uAZ0-Wvy7hPC",
    "scrolled": false
   },
   "outputs": [],
   "source": [
    "for i in range(0,5): \n",
    "#   #pass\n",
    "  # print(i)\n",
    "  # # break\n",
    "  # # continue\n",
    "  # print(\"I made it here!\")"
   ]
  },
  {
   "cell_type": "markdown",
   "metadata": {
    "id": "aPgGqk2HeK1x"
   },
   "source": [
    "\n",
    "# 3. Writing PseudoCode\n"
   ]
  },
  {
   "cell_type": "markdown",
   "metadata": {
    "id": "oqyUh5u8e3kg"
   },
   "source": [
    "#### 3.1 Write the pseudocode for the following programs.<br>"
   ]
  },
  {
   "cell_type": "code",
   "execution_count": null,
   "metadata": {
    "id": "cP0Dl8tK8hZJ"
   },
   "outputs": [],
   "source": [
    "for x in range(4, 20):\n",
    "    print(x/2)\n"
   ]
  },
  {
   "cell_type": "markdown",
   "metadata": {
    "id": "p9LTrt4Se-j7"
   },
   "source": [
    "pseudocode:"
   ]
  },
  {
   "cell_type": "markdown",
   "metadata": {},
   "source": [
    "double click to edit."
   ]
  },
  {
   "cell_type": "code",
   "execution_count": null,
   "metadata": {
    "colab": {
     "base_uri": "https://localhost:8080/"
    },
    "id": "LeqDa9LkehTY",
    "outputId": "db611a68-7e54-4851-c090-809f941bce9b"
   },
   "outputs": [],
   "source": [
    "for school in [\"Cal\", \"UCLA\", \"UCSF\"]:\n",
    "  print(school + \" is a UC school.\")\n"
   ]
  },
  {
   "cell_type": "markdown",
   "metadata": {
    "id": "zpehd1-FfGul"
   },
   "source": [
    "pseudocode:"
   ]
  },
  {
   "cell_type": "markdown",
   "metadata": {},
   "source": [
    "double click to edit."
   ]
  },
  {
   "cell_type": "markdown",
   "metadata": {
    "id": "GZ89FyxCfJHu"
   },
   "source": [
    "#### 3.2 Write the code from Pseudocode"
   ]
  },
  {
   "cell_type": "markdown",
   "metadata": {
    "id": "yyb73UvTfWU5"
   },
   "source": [
    "For each name in a list of names<br>\n",
    "&nbsp;&nbsp;&nbsp;&nbsp;&nbsp;&nbsp;&nbsp;&nbsp;&nbsp;&nbsp;&nbsp;&nbsp;Print the name.\n"
   ]
  },
  {
   "cell_type": "code",
   "execution_count": null,
   "metadata": {
    "id": "dkeKsqQRem-Z"
   },
   "outputs": [],
   "source": [
    "#write your code here"
   ]
  },
  {
   "cell_type": "markdown",
   "metadata": {
    "id": "nSLROXjifgSt"
   },
   "source": [
    "For each fruit in a list of fruits<br>\n",
    "&nbsp;&nbsp;&nbsp;&nbsp;&nbsp;&nbsp;&nbsp;&nbsp;&nbsp;&nbsp;&nbsp;&nbsp;For each first letter in the name of the fruit<br>\n",
    "    &nbsp;&nbsp;&nbsp;&nbsp;&nbsp;&nbsp;&nbsp;&nbsp;&nbsp;&nbsp;&nbsp;&nbsp;&nbsp;&nbsp;&nbsp;&nbsp;&nbsp;&nbsp;Print the capitalized version of the letter <br>\n"
   ]
  },
  {
   "cell_type": "code",
   "execution_count": null,
   "metadata": {
    "id": "e6qXrKIRffKM"
   },
   "outputs": [],
   "source": [
    "#write your code here"
   ]
  },
  {
   "cell_type": "markdown",
   "metadata": {
    "id": "L-cfc12bgAnG"
   },
   "source": [
    "## 4. For Loop Practice\n",
    "### 4.1 Write a program to find the average of numbers in a given range."
   ]
  },
  {
   "cell_type": "code",
   "execution_count": null,
   "metadata": {
    "colab": {
     "base_uri": "https://localhost:8080/"
    },
    "id": "yI3jL1ZJf_92",
    "outputId": "9c7e5894-1567-4b47-98e5-9cf7cfff6b6e"
   },
   "outputs": [],
   "source": [
    "start=int(input(\"Enter the start of the range: \"))\n",
    "end=int(input(\"Enter the end of the range: \"))"
   ]
  },
  {
   "cell_type": "code",
   "execution_count": null,
   "metadata": {
    "id": "-v6bEXABfqdH"
   },
   "outputs": [],
   "source": [
    "#write your code here"
   ]
  },
  {
   "cell_type": "markdown",
   "metadata": {
    "id": "Bt99z_iyhIbd"
   },
   "source": [
    "### 4.2. Write code to make a loop print out the square of every number in a given range.\n"
   ]
  },
  {
   "cell_type": "code",
   "execution_count": null,
   "metadata": {
    "id": "c6b3bhnEhO1J"
   },
   "outputs": [],
   "source": [
    "start=int(input(\"Enter the start of the range: \"))\n",
    "end=int(input(\"Enter the end of the range: \"))"
   ]
  },
  {
   "cell_type": "code",
   "execution_count": null,
   "metadata": {
    "id": "LH1teeWKhSOX"
   },
   "outputs": [],
   "source": [
    "#write your code here"
   ]
  },
  {
   "cell_type": "markdown",
   "metadata": {
    "id": "jEExXwnthppJ"
   },
   "source": [
    "# Lab B"
   ]
  },
  {
   "cell_type": "markdown",
   "metadata": {
    "id": "Nq6PZM_fi1fY"
   },
   "source": [
    "\n",
    " Fibonacci Sequence\n",
    "\n",
    "Let’s explore another sequence, the Fibonacci sequence.\n",
    "\n",
    "This sequence occurs when you begin with the terms 0 and 1 and derive each subsequent term by adding the previous two terms together. Here are the first 8 terms:\n",
    "\n",
    "      0  (by definition)\n",
    "      1  (by definition)\n",
    "0+1 = 1\n",
    "1+1 = 2\n",
    "1+2 = 3\n",
    "2+3 = 5\n",
    "3+5 = 8\n",
    "5+8 = 13\n",
    ".\n",
    ".\n",
    ".\n",
    "\n",
    "This sequence has all kinds of interesting properties. "
   ]
  },
  {
   "cell_type": "markdown",
   "metadata": {
    "id": "ntBvdxBphrU9"
   },
   "source": [
    "\n",
    " ## 1. Write a pseudocode for how you would implement Fibonacci using a for loop.\n"
   ]
  },
  {
   "cell_type": "markdown",
   "metadata": {
    "id": "9-JpTe65iN0_"
   },
   "source": [
    "double click to edit."
   ]
  },
  {
   "cell_type": "markdown",
   "metadata": {
    "id": "jYZaEyTxir5L"
   },
   "source": [
    "## 2. Using your pseudocode, write a code to implement the Fibonacci sequence."
   ]
  },
  {
   "cell_type": "code",
   "execution_count": null,
   "metadata": {
    "colab": {
     "base_uri": "https://localhost:8080/"
    },
    "id": "EZJQaX-OhUWJ",
    "outputId": "9bb5dc78-fd19-4628-aa2a-b060c8309334"
   },
   "outputs": [],
   "source": [
    "num_terms= int(input(\"How many terms of the fibonacci sequence should I display? \"))"
   ]
  },
  {
   "cell_type": "code",
   "execution_count": null,
   "metadata": {
    "id": "sA4Ll_s9ietM"
   },
   "outputs": [],
   "source": [
    "#write your code here"
   ]
  },
  {
   "cell_type": "markdown",
   "metadata": {
    "id": "iCfa3g49jOfg"
   },
   "source": [
    "## 3. Loops for drawing"
   ]
  },
  {
   "cell_type": "code",
   "execution_count": null,
   "metadata": {
    "id": "yrx2a1YLjNVr"
   },
   "outputs": [],
   "source": [
    "from turtle import *\n"
   ]
  },
  {
   "cell_type": "markdown",
   "metadata": {
    "id": "xAkOgshgjWmj"
   },
   "source": [
    "The code we have been using to draw a square is very repetetive. "
   ]
  },
  {
   "cell_type": "code",
   "execution_count": null,
   "metadata": {
    "id": "nNQc0lZ_jT50"
   },
   "outputs": [],
   "source": [
    "forward(100)\n",
    "right(90)\n",
    "forward(100)\n",
    "right(90)\n",
    "forward(100)\n",
    "right(90)\n",
    "forward(100)\n",
    "right(90)\n"
   ]
  },
  {
   "cell_type": "markdown",
   "metadata": {},
   "source": [
    "###  3.1 Implement the code above using a for loop."
   ]
  },
  {
   "cell_type": "code",
   "execution_count": null,
   "metadata": {
    "id": "Jqa72JJBjlOI"
   },
   "outputs": [],
   "source": [
    "reset()"
   ]
  },
  {
   "cell_type": "markdown",
   "metadata": {
    "id": "9qbw7uodjw_b"
   },
   "source": [
    "### 3.2 Drawing Fibonacci"
   ]
  },
  {
   "cell_type": "code",
   "execution_count": null,
   "metadata": {},
   "outputs": [],
   "source": [
    "from IPython.display import HTML\n",
    "HTML('<iframe width=\"560\" height=\"315\" src=\"https://www.youtube.com/embed/ahXIMUkSXX0\" frameborder=\"0\" allowfullscreen></iframe>')"
   ]
  },
  {
   "cell_type": "markdown",
   "metadata": {
    "id": "8GsYjL2bj8Qt"
   },
   "source": [
    "One Spiral\n",
    "\n",
    "First, use your Fibonacci code to draw a single spiral. You can do this by drawing a line for each number in the Fibonacci sequence and connecting the lines at a standard angle. Instead of appending each term, use it to tell the turtle how far to move."
   ]
  },
  {
   "cell_type": "code",
   "execution_count": null,
   "metadata": {
    "id": "BlYEZ0fLjoIh"
   },
   "outputs": [],
   "source": [
    "#your code here"
   ]
  },
  {
   "cell_type": "raw",
   "metadata": {
    "id": "FMPizQCZkRvF"
   },
   "source": [
    "Multiple spirals\n",
    "\n",
    "Now, loop your code to draw multiple spirals originating from the center. To achieve the pinecone style from the video, make sure to use a Fibonacci number for the number of spirals you draw.\n",
    "\n",
    "Tips:\n",
    "\n",
    "    You can return your turtle to the center of the window using goto(0, 0).\n",
    "\n",
    "    If you want, you can use penup() and pendown() to keep the turtle from drawing as it returns to the center.\n",
    "\n",
    "    Additionally, you can use setheading(ANGLE) to tell the turtle which direction to face where ANGLE is a number between 0 and 360."
   ]
  },
  {
   "cell_type": "code",
   "execution_count": null,
   "metadata": {
    "id": "DzCu0GmskQLH"
   },
   "outputs": [],
   "source": [
    "# your code here."
   ]
  },
  {
   "cell_type": "markdown",
   "metadata": {},
   "source": [
    "Keep your input under 15 to avoid the turtle taking too much time to execute or going off screen."
   ]
  },
  {
   "cell_type": "code",
   "execution_count": null,
   "metadata": {},
   "outputs": [],
   "source": []
  }
 ],
 "metadata": {
  "colab": {
   "name": "Unit 2.ipynb",
   "provenance": []
  },
  "kernelspec": {
   "display_name": "Python 3 (ipykernel)",
   "language": "python",
   "name": "python3"
  },
  "language_info": {
   "codemirror_mode": {
    "name": "ipython",
    "version": 3
   },
   "file_extension": ".py",
   "mimetype": "text/x-python",
   "name": "python",
   "nbconvert_exporter": "python",
   "pygments_lexer": "ipython3",
   "version": "3.9.7"
  }
 },
 "nbformat": 4,
 "nbformat_minor": 1
}
